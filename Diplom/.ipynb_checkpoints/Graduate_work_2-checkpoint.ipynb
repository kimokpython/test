{
 "cells": [
  {
   "cell_type": "code",
   "execution_count": 1,
   "metadata": {},
   "outputs": [
    {
     "name": "stdout",
     "output_type": "stream",
     "text": [
      "Average time spent by employees with high level of salary: 3.693\n",
      "Average time spent by employees with low level of salary: 3.438\n",
      "Hypothesis is incorrect. Employees with high level of salary spend on average only 1.074 times more time on work in comparison to employees with low one.\n",
      "\n",
      "\n",
      "Fraction of employees whot got promotion in last 5 years among those who left is 0.005\n",
      "Fraction of employees whot got promotion in last 5 years among those who stayed is 0.026\n",
      "Average satisfaction level among employees who left is 0.44\n",
      "Average satisfaction level among employees who stayed is 0.667\n",
      "Average number of projects among employees who left is 3.856\n",
      "Average number of projects among employees who stayed is 3.787\n",
      "\n",
      "\n"
     ]
    },
    {
     "data": {
      "image/png": "[encoded data removed]",
      "text/plain": [
       "<Figure size 432x288 with 1 Axes>"
      ]
     },
     "metadata": {
      "needs_background": "light"
     },
     "output_type": "display_data"
    }
   ],
   "source": [
    "import pandas as pd\n",
    "import numpy as np\n",
    "from scipy import stats\n",
    "from sklearn.linear_model import LinearRegression\n",
    "import matplotlib.pyplot as plt\n",
    "import seaborn as sns\n",
    "\n",
    "HR = pd.read_csv('HR.csv')\n",
    "\n",
    "\"\"\"6\"\"\"\n",
    "dep_list = list(HR['department'].value_counts().index)\n",
    "for dep in dep_list:\n",
    "    HR['department'].filter([dep])\n",
    "    HR.salary.hist()\n",
    "    plt.gca().set(title=dep, ylabel='Number of employees')\n",
    "\n",
    "\"\"\"7\"\"\"  \n",
    "hours_high = np.mean(HR['time_spend_company'].loc[HR['salary']=='high'])\n",
    "hours_low = np.mean(HR['time_spend_company'].loc[HR['salary']=='low'])\n",
    "print('Average time spent by employees with high level of salary:', float(\"{0:.3f}\".format(hours_high)))\n",
    "print('Average time spent by employees with low level of salary:', float(\"{0:.3f}\".format(hours_low)))\n",
    "print('Hypothesis is incorrect. Employees with high level of salary spend on average only {0:.3f} times more time on work in comparison to employees with low one.'.format(hours_high / hours_low))\n",
    "print('\\n')\n",
    "\n",
    "\"\"\"8\"\"\"  \n",
    "HR_left = HR.loc[HR['left']==1]  \n",
    "HR_stayed = HR.loc[HR['left']==0]  \n",
    "HR_left_promotion = HR_left.loc[HR_left['promotion_last_5years']==1]\n",
    "HR_stayed_promotion = HR_stayed.loc[HR_stayed['promotion_last_5years']==1]\n",
    "\n",
    "print('Fraction of employees whot got promotion in last 5 years among those who left is', float('{0:.3f}'.format(len(HR_left_promotion) / len(HR_left))))\n",
    "print('Fraction of employees whot got promotion in last 5 years among those who stayed is', float('{0:.3f}'.format(len(HR_stayed_promotion) / len(HR_stayed))))\n",
    "print('Average satisfaction level among employees who left is', float('{0:.3f}'.format(np.mean(HR_left['satisfaction_level']))))\n",
    "print('Average satisfaction level among employees who stayed is', float('{0:.3f}'.format(np.mean(HR_stayed['satisfaction_level']))))\n",
    "print('Average number of projects among employees who left is', float('{0:.3f}'.format(np.mean(HR_left['number_project']))))\n",
    "print('Average number of projects among employees who stayed is', float('{0:.3f}'.format(np.mean(HR_stayed['number_project']))))\n",
    "print('\\n')"
   ]
  }
 ],
 "metadata": {
  "kernelspec": {
   "display_name": "Python 3",
   "language": "python",
   "name": "python3"
  },
  "language_info": {
   "codemirror_mode": {
    "name": "ipython",
    "version": 3
   },
   "file_extension": ".py",
   "mimetype": "text/x-python",
   "name": "python",
   "nbconvert_exporter": "python",
   "pygments_lexer": "ipython3",
   "version": "3.8.3"
  }
 },
 "nbformat": 4,
 "nbformat_minor": 4
}
