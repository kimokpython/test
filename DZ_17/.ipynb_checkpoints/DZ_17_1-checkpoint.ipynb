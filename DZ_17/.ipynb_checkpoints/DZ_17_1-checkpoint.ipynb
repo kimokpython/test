{
 "cells": [
  {
   "cell_type": "code",
   "execution_count": 62,
   "metadata": {},
   "outputs": [
    {
     "name": "stdout",
     "output_type": "stream",
     "text": [
      "Коэффициент корреляции Спирмена равен -0.655\n",
      "Коэффициент корреляции Спирмена равен -0.632\n",
      "Модель регрессии: y = -3.226x + 1676.356\n",
      "Коэффициент детерминации равен 0.429\n"
     ]
    },
    {
     "data": {
      "text/plain": [
       "[<matplotlib.lines.Line2D at 0x1ad3829cb48>]"
      ]
     },
     "execution_count": 62,
     "metadata": {},
     "output_type": "execute_result"
    },
    {
     "data": {
      "image/png": "[encoded data removed]",
      "text/plain": [
       "<Figure size 432x288 with 1 Axes>"
      ]
     },
     "metadata": {
      "needs_background": "light"
     },
     "output_type": "display_data"
    }
   ],
   "source": [
    "from sklearn.datasets import load_boston\n",
    "from sklearn.linear_model import LinearRegression\n",
    "import pandas as pd\n",
    "import numpy as np\n",
    "import matplotlib.pyplot as plt\n",
    "import seaborn as sns\n",
    "\n",
    "water = pd.read_csv('water.csv')\n",
    "\n",
    "print('Коэффициент корреляции Спирмена равен {:.3f}'.format(water[['hardness', 'mortality']].corr()['hardness']['mortality']))\n",
    "print('Коэффициент корреляции Спирмена равен {:.3f}'.format(water[['hardness', 'mortality']].corr(method='spearman')['hardness']['mortality']))\n",
    "X = water[['hardness']].values\n",
    "Y = water[['mortality']].values\n",
    "X.shape\n",
    "Y.shape\n",
    "model = LinearRegression()\n",
    "model.fit(X, Y)\n",
    "print('Модель регрессии: y = {:.3f}x + {:.3f}'.format(float(model.coef_), float(model.intercept_)))\n",
    "print('Коэффициент детерминации равен {:.3f}'.format(model.score(X, Y)))\n",
    "plt.scatter(water['hardness'], water['mortality'])\n",
    "plt.plot(water['hardness'], model.predict(water[['hardness']]), c='r')"
   ]
  }
 ],
 "metadata": {
  "kernelspec": {
   "display_name": "Python 3",
   "language": "python",
   "name": "python3"
  },
  "language_info": {
   "codemirror_mode": {
    "name": "ipython",
    "version": 3
   },
   "file_extension": ".py",
   "mimetype": "text/x-python",
   "name": "python",
   "nbconvert_exporter": "python",
   "pygments_lexer": "ipython3",
   "version": "3.7.6"
  }
 },
 "nbformat": 4,
 "nbformat_minor": 4
}
