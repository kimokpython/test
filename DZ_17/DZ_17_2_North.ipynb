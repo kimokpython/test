{
 "cells": [
  {
   "cell_type": "code",
   "execution_count": 14,
   "metadata": {},
   "outputs": [
    {
     "name": "stdout",
     "output_type": "stream",
     "text": [
      "Коэффициент корреляции Спирмена равен -0.369\n",
      "Коэффициент корреляции Спирмена равен -0.404\n",
      "Модель регрессии: y = -1.931x + 1692.313\n",
      "Коэффициент детерминации равен 0.136\n"
     ]
    },
    {
     "data": {
      "text/plain": [
       "[<matplotlib.lines.Line2D at 0x1f6da9b6fc8>]"
      ]
     },
     "execution_count": 14,
     "metadata": {},
     "output_type": "execute_result"
    },
    {
     "data": {
      "image/png": "[encoded data removed]",
      "text/plain": [
       "<Figure size 432x288 with 1 Axes>"
      ]
     },
     "metadata": {
      "needs_background": "light"
     },
     "output_type": "display_data"
    }
   ],
   "source": [
    "from sklearn.datasets import load_boston\n",
    "from sklearn.linear_model import LinearRegression\n",
    "import pandas as pd\n",
    "import numpy as np\n",
    "import matplotlib.pyplot as plt\n",
    "import seaborn as sns\n",
    "\n",
    "water = pd.read_csv('water.csv')\n",
    "water_north = water.loc[water['location'] == 'North']\n",
    "print('Коэффициент корреляции Спирмена равен {:.3f}'.format(water_north[['hardness', 'mortality']].corr()['hardness']['mortality']))\n",
    "print('Коэффициент корреляции Спирмена равен {:.3f}'.format(water_north[['hardness', 'mortality']].corr(method='spearman')['hardness']['mortality']))\n",
    "X = water_north[['hardness']].values\n",
    "Y = water_north[['mortality']].values\n",
    "X.shape\n",
    "Y.shape\n",
    "model = LinearRegression()\n",
    "model.fit(X, Y)\n",
    "print('Модель регрессии: y = {:.3f}x + {:.3f}'.format(float(model.coef_), float(model.intercept_)))\n",
    "print('Коэффициент детерминации равен {:.3f}'.format(model.score(X, Y)))\n",
    "plt.scatter(water_north['hardness'], water_north['mortality'])\n",
    "plt.plot(water_north['hardness'], model.predict(water_north[['hardness']]), c='r')\n"
   ]
  }
 ],
 "metadata": {
  "kernelspec": {
   "display_name": "Python 3",
   "language": "python",
   "name": "python3"
  },
  "language_info": {
   "codemirror_mode": {
    "name": "ipython",
    "version": 3
   },
   "file_extension": ".py",
   "mimetype": "text/x-python",
   "name": "python",
   "nbconvert_exporter": "python",
   "pygments_lexer": "ipython3",
   "version": "3.7.6"
  }
 },
 "nbformat": 4,
 "nbformat_minor": 4
}
