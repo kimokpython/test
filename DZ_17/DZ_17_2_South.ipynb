{
 "cells": [
  {
   "cell_type": "code",
   "execution_count": 2,
   "metadata": {},
   "outputs": [
    {
     "name": "stdout",
     "output_type": "stream",
     "text": [
      "Коэффициент корреляции Спирмена равен -0.602\n",
      "Коэффициент корреляции Спирмена равен -0.596\n",
      "Модель регрессии: y = -2.093x + 1522.815\n",
      "Коэффициент детерминации равен 0.363\n"
     ]
    },
    {
     "data": {
      "text/plain": [
       "[<matplotlib.lines.Line2D at 0x14d6719f648>]"
      ]
     },
     "execution_count": 2,
     "metadata": {},
     "output_type": "execute_result"
    },
    {
     "data": {
      "image/png": "[encoded data removed]",
      "text/plain": [
       "<Figure size 432x288 with 1 Axes>"
      ]
     },
     "metadata": {
      "needs_background": "light"
     },
     "output_type": "display_data"
    }
   ],
   "source": [
    "from sklearn.datasets import load_boston\n",
    "from sklearn.linear_model import LinearRegression\n",
    "import pandas as pd\n",
    "import numpy as np\n",
    "import matplotlib.pyplot as plt\n",
    "import seaborn as sns\n",
    "\n",
    "water = pd.read_csv('water.csv')\n",
    "water_South = water.loc[water['location'] == 'South']\n",
    "print('Коэффициент корреляции Спирмена равен {:.3f}'.format(water_South[['hardness', 'mortality']].corr()['hardness']['mortality']))\n",
    "print('Коэффициент корреляции Спирмена равен {:.3f}'.format(water_South[['hardness', 'mortality']].corr(method='spearman')['hardness']['mortality']))\n",
    "X = water_South[['hardness']].values\n",
    "Y = water_South[['mortality']].values\n",
    "X.shape\n",
    "Y.shape\n",
    "model = LinearRegression()\n",
    "model.fit(X, Y)\n",
    "print('Модель регрессии: y = {:.3f}x + {:.3f}'.format(float(model.coef_), float(model.intercept_)))\n",
    "print('Коэффициент детерминации равен {:.3f}'.format(model.score(X, Y)))\n",
    "plt.scatter(water_South['hardness'], water_South['mortality'])\n",
    "plt.plot(water_South['hardness'], model.predict(water_South[['hardness']]), c='r')"
   ]
  }
 ],
 "metadata": {
  "kernelspec": {
   "display_name": "Python 3",
   "language": "python",
   "name": "python3"
  },
  "language_info": {
   "codemirror_mode": {
    "name": "ipython",
    "version": 3
   },
   "file_extension": ".py",
   "mimetype": "text/x-python",
   "name": "python",
   "nbconvert_exporter": "python",
   "pygments_lexer": "ipython3",
   "version": "3.7.6"
  }
 },
 "nbformat": 4,
 "nbformat_minor": 4
}
