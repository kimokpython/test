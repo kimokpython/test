{
 "cells": [
  {
   "cell_type": "code",
   "execution_count": 35,
   "metadata": {},
   "outputs": [
    {
     "name": "stdout",
     "output_type": "stream",
     "text": [
      "2002-10-02 00:00:00\n",
      "2013-10-11 00:00:00\n",
      "1977-08-18 00:00:00\n"
     ]
    }
   ],
   "source": [
    "from datetime import datetime\n",
    "str_TMT = \"Wednesday, October 2, 2002\"\n",
    "str_TG = \"Friday, 11.10.13\"\n",
    "str_DN = \"Thursday, 18 August 1977\"\n",
    "\n",
    "if str_TMT[-8] == \" \":\n",
    "    str_TMT = str_TMT[:-7] + \"0\" + str_TMT[-7:]    \n",
    "print (datetime.strptime(str_TMT, '%A, %B %d, %Y'))\n",
    "    \n",
    "    \n",
    "print (datetime.strptime(str_TG, '%A, %d.%m.%y')) \n",
    "\n",
    "\n",
    "for i in range (0, len (str_DN)):\n",
    "    if str_DN[i] == \" \" and str_DN[i+2] == \" \":\n",
    "        str_DN = str_DN[:i+1] + \"0\" + str_DN[i+1:] \n",
    "        break\n",
    "print (datetime.strptime(str_DN, '%A, %d %B %Y'))  \n",
    "        "
   ]
  }
 ],
 "metadata": {
  "kernelspec": {
   "display_name": "Python 3",
   "language": "python",
   "name": "python3"
  },
  "language_info": {
   "codemirror_mode": {
    "name": "ipython",
    "version": 3
   },
   "file_extension": ".py",
   "mimetype": "text/x-python",
   "name": "python",
   "nbconvert_exporter": "python",
   "pygments_lexer": "ipython3",
   "version": "3.7.6"
  }
 },
 "nbformat": 4,
 "nbformat_minor": 4
}
