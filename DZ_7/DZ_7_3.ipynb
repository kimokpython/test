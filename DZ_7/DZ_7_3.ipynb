{
 "cells": [
  {
   "cell_type": "code",
   "execution_count": 26,
   "metadata": {},
   "outputs": [
    {
     "name": "stdout",
     "output_type": "stream",
     "text": [
      "['2020-08-26', '2020-08-27', '2020-08-28']\n",
      "[]\n",
      "[]\n",
      "[]\n",
      "['8080-11-26', '8080-11-27', '8080-11-28', '8080-11-29', '8080-11-30', '8080-12-01', '8080-12-02', '8080-12-03']\n",
      "[]\n"
     ]
    }
   ],
   "source": [
    "from datetime import datetime, timedelta\n",
    "\n",
    "def date_range(start_date, end_date):\n",
    "    date_list = []\n",
    "    try:\n",
    "        date1 = datetime.strptime(start_date, '%Y-%m-%d')\n",
    "        date2 = datetime.strptime(end_date, '%Y-%m-%d')\n",
    "        if date1 >= date2:\n",
    "             return date_list\n",
    "        else:\n",
    "            days_count = (date2 - date1).days       \n",
    "            for i in range (0, days_count):\n",
    "                date_list.append(datetime.strftime(date1 + timedelta(days=i), '%Y-%m-%d'))\n",
    "            return date_list\n",
    "    except:\n",
    "        return date_list\n",
    "\n",
    "print (date_range(\"2020-08-26\", \"2020-08-29\"))\n",
    "print (date_range(\"2020-08-30\", \"2020-08-22\"))\n",
    "print (date_range(\"2020-08-26\", \"2020-08-26\"))\n",
    "print (date_range(\"2020-34-26\", \"2020-08-26\"))\n",
    "print (date_range(\"8080-11-26\", \"8080-12-04\"))\n",
    "print (date_range(\"20A0-08-26\", \"202E-08-26\"))"
   ]
  }
 ],
 "metadata": {
  "kernelspec": {
   "display_name": "Python 3",
   "language": "python",
   "name": "python3"
  },
  "language_info": {
   "codemirror_mode": {
    "name": "ipython",
    "version": 3
   },
   "file_extension": ".py",
   "mimetype": "text/x-python",
   "name": "python",
   "nbconvert_exporter": "python",
   "pygments_lexer": "ipython3",
   "version": "3.7.6"
  }
 },
 "nbformat": 4,
 "nbformat_minor": 4
}
