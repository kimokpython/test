{
 "cells": [
  {
   "cell_type": "code",
   "execution_count": 40,
   "metadata": {},
   "outputs": [
    {
     "name": "stdout",
     "output_type": "stream",
     "text": [
      "Поисковых запросов, содержащих 2 слов(а):  42.86 %\n",
      "Поисковых запросов, содержащих 3 слов(а):  57.14 %\n"
     ]
    }
   ],
   "source": [
    "queries = [\n",
    "'смотреть сериалы онлайн',\n",
    "'новости спорта',\n",
    "'афиша кино',\n",
    "'курс доллара',\n",
    "'сериалы этим летом',\n",
    "'курс по питону',\n",
    "'сериалы про спорт',\n",
    "]\n",
    "max_ = 1\n",
    "for query in queries:\n",
    "    split_list = query.split(' ')\n",
    "    max = len(split_list) if (len(split_list) > max_) else max_          \n",
    "for i in range (1,max + 1):\n",
    "    viewshare = 0.00\n",
    "    for query in queries:\n",
    "        split_list = query.split(' ')\n",
    "        if len(split_list) == i:\n",
    "            viewshare += 1\n",
    "    if viewshare != 0:\n",
    "        print(\"Поисковых запросов, содержащих\", i, \"слов(а): \", format(100 * viewshare / len(queries),'.2f'),\"%\")        "
   ]
  }
 ],
 "metadata": {
  "kernelspec": {
   "display_name": "Python 3",
   "language": "python",
   "name": "python3"
  },
  "language_info": {
   "codemirror_mode": {
    "name": "ipython",
    "version": 3
   },
   "file_extension": ".py",
   "mimetype": "text/x-python",
   "name": "python",
   "nbconvert_exporter": "python",
   "pygments_lexer": "ipython3",
   "version": "3.7.6"
  }
 },
 "nbformat": 4,
 "nbformat_minor": 4
}
