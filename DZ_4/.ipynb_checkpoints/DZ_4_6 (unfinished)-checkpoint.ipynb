{
 "cells": [
  {
   "cell_type": "code",
   "execution_count": 53,
   "metadata": {},
   "outputs": [
    {
     "name": "stdout",
     "output_type": "stream",
     "text": [
      "{'лимон', 'перец', 'колбаса', 'тесто', 'бекон', 'салат', 'лайм', 'маслины', 'томаты', 'огурцы', 'сыр', 'сахар', 'оливки', 'оливковое масло', 'вода'}\n",
      "[{'ingridient_name': 'сыр', 'quantity': 50, 'measure': 'гр'}, {'ingridient_name': 'томаты', 'quantity': 20, 'measure': 'гр'}, {'ingridient_name': 'огурцы', 'quantity': 20, 'measure': 'гр'}, {'ingridient_name': 'маслины', 'quantity': 10, 'measure': 'гр'}, {'ingridient_name': 'оливковое масло', 'quantity': 20, 'measure': 'мл'}, {'ingridient_name': 'салат', 'quantity': 10, 'measure': 'гр'}, {'ingridient_name': 'перец', 'quantity': 20, 'measure': 'гр'}, {'ingridient_name': 'сыр', 'quantity': 20, 'measure': 'гр'}, {'ingridient_name': 'колбаса', 'quantity': 30, 'measure': 'гр'}, {'ingridient_name': 'бекон', 'quantity': 30, 'measure': 'гр'}, {'ingridient_name': 'оливки', 'quantity': 10, 'measure': 'гр'}, {'ingridient_name': 'томаты', 'quantity': 20, 'measure': 'гр'}, {'ingridient_name': 'тесто', 'quantity': 100, 'measure': 'гр'}, {'ingridient_name': 'лимон', 'quantity': 1, 'measure': 'шт'}, {'ingridient_name': 'вода', 'quantity': 200, 'measure': 'мл'}, {'ingridient_name': 'сахар', 'quantity': 10, 'measure': 'гр'}, {'ingridient_name': 'лайм', 'quantity': 20, 'measure': 'гр'}]\n",
      "сыр\n",
      "томаты\n",
      "огурцы\n",
      "маслины\n",
      "оливковое масло\n",
      "салат\n",
      "перец\n",
      "сыр\n",
      "колбаса\n",
      "бекон\n",
      "оливки\n",
      "томаты\n",
      "тесто\n",
      "лимон\n",
      "вода\n",
      "сахар\n",
      "лайм\n"
     ]
    }
   ],
   "source": [
    "cook_book = {\n",
    "'салат': [\n",
    "{'ingridient_name': 'сыр', 'quantity': 50, 'measure': 'гр'},\n",
    "{'ingridient_name': 'томаты', 'quantity': 20, 'measure': 'гр'},\n",
    "{'ingridient_name': 'огурцы', 'quantity': 20, 'measure': 'гр'},\n",
    "{'ingridient_name': 'маслины', 'quantity': 10, 'measure': 'гр'},\n",
    "{'ingridient_name': 'оливковое масло', 'quantity': 20, 'measure': 'мл'},\n",
    "{'ingridient_name': 'салат', 'quantity': 10, 'measure': 'гр'},\n",
    "{'ingridient_name': 'перец', 'quantity': 20, 'measure': 'гр'}\n",
    "],\n",
    "'пицца': [\n",
    "{'ingridient_name': 'сыр', 'quantity': 20, 'measure': 'гр'},\n",
    "{'ingridient_name': 'колбаса', 'quantity': 30, 'measure': 'гр'},\n",
    "{'ingridient_name': 'бекон', 'quantity': 30, 'measure': 'гр'},\n",
    "{'ingridient_name': 'оливки', 'quantity': 10, 'measure': 'гр'},\n",
    "{'ingridient_name': 'томаты', 'quantity': 20, 'measure': 'гр'},\n",
    "{'ingridient_name': 'тесто', 'quantity': 100, 'measure': 'гр'},\n",
    "],\n",
    "'лимонад': [\n",
    "{'ingridient_name': 'лимон', 'quantity': 1, 'measure': 'шт'},\n",
    "{'ingridient_name': 'вода', 'quantity': 200, 'measure': 'мл'},\n",
    "{'ingridient_name': 'сахар', 'quantity': 10, 'measure': 'гр'},\n",
    "{'ingridient_name': 'лайм', 'quantity': 20, 'measure': 'гр'},\n",
    "]\n",
    "}\n",
    "ingridient_list = []\n",
    "food_list = []\n",
    "unique_food_list = []\n",
    "for dish, recipe in cook_book.items():\n",
    "    for ingridient in recipe:\n",
    "        ingridient_list.append(ingridient)\n",
    "        food_list.append(ingridient['ingridient_name'])\n",
    "unique_food_list = set(food_list)\n",
    "print(unique_food_list)\n",
    "print(ingridient_list)\n",
    "for ingridient in ingridient_list:\n",
    "    if ingridient['ingridient_name'] in unique_food_list:\n",
    "        "
   ]
  }
 ],
 "metadata": {
  "kernelspec": {
   "display_name": "Python 3",
   "language": "python",
   "name": "python3"
  },
  "language_info": {
   "codemirror_mode": {
    "name": "ipython",
    "version": 3
   },
   "file_extension": ".py",
   "mimetype": "text/x-python",
   "name": "python",
   "nbconvert_exporter": "python",
   "pygments_lexer": "ipython3",
   "version": "3.7.6"
  }
 },
 "nbformat": 4,
 "nbformat_minor": 4
}
