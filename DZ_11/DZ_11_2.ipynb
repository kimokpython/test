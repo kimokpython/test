{
 "cells": [
  {
   "cell_type": "code",
   "execution_count": 29,
   "metadata": {},
   "outputs": [
    {
     "name": "stdout",
     "output_type": "stream",
     "text": [
      "         country  year  quantity  category\n",
      "10617    Estonia  2008       1.0         4\n",
      "10620    Estonia  2005       1.0         4\n",
      "11156  Lithuania  2008       1.0         4\n",
      "11158  Lithuania  2006       1.0         4\n",
      "11159  Lithuania  2005       1.0         4\n"
     ]
    },
    {
     "data": {
      "text/plain": [
       "64486.0"
      ]
     },
     "execution_count": 29,
     "metadata": {},
     "output_type": "execute_result"
    }
   ],
   "source": [
    "import pandas as pd\n",
    "\n",
    "power = pd.read_csv('power.csv')\n",
    "baltic = power[(power['country']=='Latvia')|(power['country']=='Lithuania')|(power['country']=='Estonia')]\n",
    "baltic_05_09 = baltic[(baltic['year']<=2010)&(baltic['year']>=2005)]\n",
    "baltic_05_09_cat = baltic_05_09[(baltic_05_09['category']==4)|(baltic_05_09['category']==10)|(baltic_05_09['category']==12)]\n",
    "baltic_05_09_cat_fixed = baltic_05_09_cat[(baltic_05_09_cat['quantity']>0)]\n",
    "print(baltic_05_09_cat_fixed.head())\n",
    "sum(baltic_05_09_cat_fixed.quantity)"
   ]
  }
 ],
 "metadata": {
  "kernelspec": {
   "display_name": "Python 3",
   "language": "python",
   "name": "python3"
  },
  "language_info": {
   "codemirror_mode": {
    "name": "ipython",
    "version": 3
   },
   "file_extension": ".py",
   "mimetype": "text/x-python",
   "name": "python",
   "nbconvert_exporter": "python",
   "pygments_lexer": "ipython3",
   "version": "3.7.6"
  }
 },
 "nbformat": 4,
 "nbformat_minor": 4
}
