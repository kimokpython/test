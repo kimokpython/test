{
 "cells": [
  {
   "cell_type": "code",
   "execution_count": 1,
   "metadata": {},
   "outputs": [],
   "source": [
    "import json\n",
    "purchases = {}\n",
    "with open('purchase_log.txt', 'r',encoding = 'utf-8') as f: \n",
    "    f_header = f.readline()\n",
    "    f_content = f.readlines()    \n",
    "    for line in f_content:        \n",
    "        f_dict = json.loads(line.strip())\n",
    "        f_userid = f_dict.get(\"user_id\")  \n",
    "        f_cat = f_dict.get(\"category\")\n",
    "        purchases[(f_userid)] = f_cat      \n",
    "            \n",
    "#print (purchases)\n",
    "with open('visit_log.csv', 'r',encoding = 'utf-8') as g:\n",
    "    header = g.readline()        \n",
    "    with open('funnel.csv', 'w') as h:\n",
    "        for line in g:\n",
    "            line = line.strip().split(',')            \n",
    "            if line[0] in purchases.keys():\n",
    "                pur_cat = purchases.get(line[0])\n",
    "                line.append(pur_cat)\n",
    "                h.write(','.join(line) + '\\n')            "
   ]
  }
 ],
 "metadata": {
  "kernelspec": {
   "display_name": "Python 3",
   "language": "python",
   "name": "python3"
  },
  "language_info": {
   "codemirror_mode": {
    "name": "ipython",
    "version": 3
   },
   "file_extension": ".py",
   "mimetype": "text/x-python",
   "name": "python",
   "nbconvert_exporter": "python",
   "pygments_lexer": "ipython3",
   "version": "3.7.6"
  }
 },
 "nbformat": 4,
 "nbformat_minor": 4
}
