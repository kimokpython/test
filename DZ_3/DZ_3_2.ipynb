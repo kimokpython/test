{
 "cells": [
  {
   "cell_type": "code",
   "execution_count": 15,
   "metadata": {},
   "outputs": [
    {
     "name": "stdout",
     "output_type": "stream",
     "text": [
      "Введите число: 13\n",
      "Введите число: 77\n",
      "Введите число: 19\n",
      "Введите число: 0\n",
      "Результат:  109\n"
     ]
    }
   ],
   "source": [
    "number = 1\n",
    "numbersum = 0\n",
    "while number != 0:\n",
    "    number = int(input(\"Введите число: \"))        \n",
    "    numbersum = numbersum + number\n",
    "print(\"Результат: \",numbersum)               "
   ]
  }
 ],
 "metadata": {
  "kernelspec": {
   "display_name": "Python 3",
   "language": "python",
   "name": "python3"
  },
  "language_info": {
   "codemirror_mode": {
    "name": "ipython",
    "version": 3
   },
   "file_extension": ".py",
   "mimetype": "text/x-python",
   "name": "python",
   "nbconvert_exporter": "python",
   "pygments_lexer": "ipython3",
   "version": "3.7.6"
  }
 },
 "nbformat": 4,
 "nbformat_minor": 4
}
