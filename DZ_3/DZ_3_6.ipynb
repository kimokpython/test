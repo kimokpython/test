{
 "cells": [
  {
   "cell_type": "code",
   "execution_count": 15,
   "metadata": {},
   "outputs": [
    {
     "name": "stdout",
     "output_type": "stream",
     "text": [
      "Введите числа: 1 0 5 5 2 2 3 2 8 4 1\n",
      " 1 5 2\n"
     ]
    }
   ],
   "source": [
    "inputdata = input(\"Введите числа: \")\n",
    "input_numbers = inputdata.split(\" \")\n",
    "unique_numbers = []\n",
    "unique_numbers_str = \"\"\n",
    "for number in input_numbers:\n",
    "    if input_numbers.count(number) >= 2:\n",
    "        if number not in unique_numbers:\n",
    "            unique_numbers.append(number)      \n",
    "for i in range (0, len(unique_numbers)):  \n",
    "    unique_numbers_str = unique_numbers_str + \" \" + unique_numbers[i]\n",
    "print(unique_numbers_str)"
   ]
  }
 ],
 "metadata": {
  "kernelspec": {
   "display_name": "Python 3",
   "language": "python",
   "name": "python3"
  },
  "language_info": {
   "codemirror_mode": {
    "name": "ipython",
    "version": 3
   },
   "file_extension": ".py",
   "mimetype": "text/x-python",
   "name": "python",
   "nbconvert_exporter": "python",
   "pygments_lexer": "ipython3",
   "version": "3.7.6"
  }
 },
 "nbformat": 4,
 "nbformat_minor": 4
}
