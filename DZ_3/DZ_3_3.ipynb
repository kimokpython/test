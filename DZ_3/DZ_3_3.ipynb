{
 "cells": [
  {
   "cell_type": "code",
   "execution_count": 19,
   "metadata": {},
   "outputs": [
    {
     "name": "stdout",
     "output_type": "stream",
     "text": [
      "Идеальные пары: \n",
      "Benedict и Hitagi\n",
      "Bleys и Karen\n",
      "Brand и Mayoi\n",
      "Caine и Nadeko\n",
      "Corwin и Shinobu\n",
      "Eric и Suruga\n",
      "Gérard и Tsubasa\n",
      "Julian и Tsukihi\n",
      "Random и Yotsugi\n"
     ]
    }
   ],
   "source": [
    "boys = ['Benedict', 'Corwin', 'Eric', 'Caine', 'Bleys', 'Brand', 'Julian', 'Gérard', 'Random']\n",
    "girls = ['Shinobu', 'Yotsugi', 'Mayoi', 'Hitagi', 'Tsubasa', 'Suruga', 'Nadeko', 'Karen', 'Tsukihi']\n",
    "sortedboys = sorted(boys)\n",
    "sortedgirls = sorted(girls)\n",
    "if len(boys) != len(girls):\n",
    "    print(\"Внимание, кто-то может остаться без пары!\") \n",
    "else:\n",
    "    print(\"Идеальные пары: \")\n",
    "    for i in range (0, len(boys)):\n",
    "        print(sortedboys[i], \"и\", sortedgirls[i])"
   ]
  }
 ],
 "metadata": {
  "kernelspec": {
   "display_name": "Python 3",
   "language": "python",
   "name": "python3"
  },
  "language_info": {
   "codemirror_mode": {
    "name": "ipython",
    "version": 3
   },
   "file_extension": ".py",
   "mimetype": "text/x-python",
   "name": "python",
   "nbconvert_exporter": "python",
   "pygments_lexer": "ipython3",
   "version": "3.7.6"
  }
 },
 "nbformat": 4,
 "nbformat_minor": 4
}
