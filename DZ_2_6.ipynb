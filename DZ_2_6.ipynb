{
 "cells": [
  {
   "cell_type": "code",
   "execution_count": 14,
   "metadata": {},
   "outputs": [
    {
     "name": "stdout",
     "output_type": "stream",
     "text": [
      "Введите тип фигуры: Треугольник\n",
      "Введите длину стороны A: 3\n",
      "Введите длину стороны B: 4\n",
      "Введите длину стороны C: 5\n",
      "Площадь треугольника:  6.0\n"
     ]
    }
   ],
   "source": [
    "figure = input(\"Введите тип фигуры: \")\n",
    "if figure == \"Круг\":\n",
    "    radius = int(input(\"Введите радиус круга: \"))\n",
    "    print(\"Площадь Прямоугольника: \", 3.14 * radius ** 2)\n",
    "elif figure == \"Прямоугольник\":\n",
    "    a, b = int(input(\"Введите длину стороны A: \")), int(input(\"Введите длину стороны B: \"))             \n",
    "    print(\"Площадь Прямоугольника: \", a * b)\n",
    "elif figure == \"Треугольник\":\n",
    "    a, b, c = int(input(\"Введите длину стороны A: \")), int(input(\"Введите длину стороны B: \")), int(input(\"Введите длину стороны C: \"))\n",
    "    p = (a + b + c)/2                                                                                             \n",
    "    print(\"Площадь треугольника: \", (p * (p-a) * (p-b) * (p-c)) ** 0.5)                                                            "
   ]
  }
 ],
 "metadata": {
  "kernelspec": {
   "display_name": "Python 3",
   "language": "python",
   "name": "python3"
  },
  "language_info": {
   "codemirror_mode": {
    "name": "ipython",
    "version": 3
   },
   "file_extension": ".py",
   "mimetype": "text/x-python",
   "name": "python",
   "nbconvert_exporter": "python",
   "pygments_lexer": "ipython3",
   "version": "3.7.6"
  }
 },
 "nbformat": 4,
 "nbformat_minor": 4
}
