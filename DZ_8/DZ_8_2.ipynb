{
 "cells": [
  {
   "cell_type": "code",
   "execution_count": 24,
   "metadata": {},
   "outputs": [
    {
     "name": "stdout",
     "output_type": "stream",
     "text": [
      "-0.5972000000000008\n",
      "-0.2511999999999972\n",
      "-0.015699999999998937\n"
     ]
    }
   ],
   "source": [
    "import requests\n",
    "\n",
    "class Rate:\n",
    "    def __init__(self, format_='value', diff=False):\n",
    "        self.format = format_   \n",
    "        self.diff = diff\n",
    "    def exchange_rates(self):\n",
    "        self.r = requests.get('https://www.cbr-xml-daily.ru/daily_json.js')\n",
    "        return self.r.json()['Valute']\n",
    "    def make_format(self, currency):        \n",
    "        response = self.exchange_rates()\n",
    "        if currency in response:\n",
    "            if self.format == 'full':\n",
    "                return response[currency]\n",
    "            if self.format == 'value':\n",
    "                if self.diff == False:\n",
    "                    return response[currency]['Value']\n",
    "                else:\n",
    "                    return response[currency]['Value'] - response[currency]['Previous']                            \n",
    "        return 'Error'  \n",
    "    def usd(self): \n",
    "        return self.make_format('USD')        \n",
    "    def eur(self):        \n",
    "        return self.make_format('EUR')\n",
    "    def brl(self):        \n",
    "        return self.make_format('BRL')                            \n",
    "r = Rate(format_='value',diff=True)\n",
    "print(r.usd())\n",
    "print(r.eur())\n",
    "print(r.brl())"
   ]
  }
 ],
 "metadata": {
  "kernelspec": {
   "display_name": "Python 3",
   "language": "python",
   "name": "python3"
  },
  "language_info": {
   "codemirror_mode": {
    "name": "ipython",
    "version": 3
   },
   "file_extension": ".py",
   "mimetype": "text/x-python",
   "name": "python",
   "nbconvert_exporter": "python",
   "pygments_lexer": "ipython3",
   "version": "3.7.6"
  }
 },
 "nbformat": 4,
 "nbformat_minor": 4
}
