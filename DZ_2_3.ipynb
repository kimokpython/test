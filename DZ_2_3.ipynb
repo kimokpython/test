{
 "cells": [
  {
   "cell_type": "code",
   "execution_count": 12,
   "metadata": {},
   "outputs": [
    {
     "name": "stdout",
     "output_type": "stream",
     "text": [
      "Введите день: 25\n",
      "Введите месяц: Июль\n",
      "Ваш знак зодиака:  Лев\n"
     ]
    }
   ],
   "source": [
    "day = int(input(\"Введите день: \"))\n",
    "month = input(\"Введите месяц: \")\n",
    "if month == 'Январь':\n",
    "    sign = \"Козерог\" if (day < 21) else \"Водолей\"\n",
    "elif month == 'Февраль':\n",
    "    sign = \"Водолей\" if (day < 21) else \"Рыбы\"\n",
    "elif month == 'Март':\n",
    "    sign = \"Рыбы\" if (day < 21) else \"Овен\"\n",
    "elif month == 'Апрель':\n",
    "    sign = \"Овен\" if (day < 21) else \"Телец\"\n",
    "elif month == 'Май':\n",
    "    sign = \"Телец\" if (day < 21) else \"Близнецы\"\n",
    "elif month == 'Июнь':\n",
    "    sign = \"Близнецы\" if (day < 22) else \"Рак\"\n",
    "elif month == 'Июль':\n",
    "    sign = \"Рак\" if (day < 23) else \"Лев\"\n",
    "elif month == 'Август':\n",
    "    sign = \"Лев\" if (day < 24) else \"Дева\"\n",
    "elif month == 'Сентябрь':\n",
    "    sign = \"Дева\" if (day < 24) else \"Весы\"\n",
    "elif month == 'Октябрь':\n",
    "    sign = \"Весы\" if (day < 24) else \"Скорпион\"\n",
    "elif month == 'Ноябрь':\n",
    "    sign = \"Скорпион\" if (day < 23) else \"Стрелец\"\n",
    "elif month == 'Декабрь':\n",
    "    sign = \"Стрелец\" if (day < 22) else \"Козерог\"\n",
    "print(\"Ваш знак зодиака: \",sign) "
   ]
  }
 ],
 "metadata": {
  "kernelspec": {
   "display_name": "Python 3",
   "language": "python",
   "name": "python3"
  },
  "language_info": {
   "codemirror_mode": {
    "name": "ipython",
    "version": 3
   },
   "file_extension": ".py",
   "mimetype": "text/x-python",
   "name": "python",
   "nbconvert_exporter": "python",
   "pygments_lexer": "ipython3",
   "version": "3.7.6"
  }
 },
 "nbformat": 4,
 "nbformat_minor": 4
}
