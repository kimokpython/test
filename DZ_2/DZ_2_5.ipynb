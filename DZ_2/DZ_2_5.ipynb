{
 "cells": [
  {
   "cell_type": "code",
   "execution_count": 6,
   "metadata": {},
   "outputs": [
    {
     "name": "stdout",
     "output_type": "stream",
     "text": [
      "Введите номер билета: 456753\n",
      "Счастливый билет\n"
     ]
    }
   ],
   "source": [
    "ticket = int(input(\"Введите номер билета: \"))\n",
    "num_1 = ticket // 100000\n",
    "num_2 = ticket % 100000 //10000\n",
    "num_3 = ticket % 10000 //1000\n",
    "num_4 = ticket % 1000 //100\n",
    "num_5 = ticket % 100 //10\n",
    "num_6 = ticket % 10\n",
    "if num_1 + num_2 + num_3 == num_4 + num_5 + num_6:\n",
    "    print(\"Счастливый билет\")\n",
    "else:\n",
    "    print(\"Несчастливый билет\")"
   ]
  }
 ],
 "metadata": {
  "kernelspec": {
   "display_name": "Python 3",
   "language": "python",
   "name": "python3"
  },
  "language_info": {
   "codemirror_mode": {
    "name": "ipython",
    "version": 3
   },
   "file_extension": ".py",
   "mimetype": "text/x-python",
   "name": "python",
   "nbconvert_exporter": "python",
   "pygments_lexer": "ipython3",
   "version": "3.7.6"
  }
 },
 "nbformat": 4,
 "nbformat_minor": 4
}
