{
 "cells": [
  {
   "cell_type": "code",
   "execution_count": 71,
   "metadata": {},
   "outputs": [
    {
     "name": "stdout",
     "output_type": "stream",
     "text": [
      "Cреднее время жизни: 456 дней 11 часов 13 минут 21 секунд\n"
     ]
    }
   ],
   "source": [
    "import pandas as pd\n",
    "import time\n",
    "\n",
    "def lifetime(user_data):\n",
    "    last_timestamp = max([x[3] for x in user_data])\n",
    "    first_timestamp = min([x[3] for x in user_data])\n",
    "    return last_timestamp - first_timestamp\n",
    "\n",
    "previous_userId = None\n",
    "user_data = []\n",
    "rating_count = 1\n",
    "lifetime_list = []\n",
    "with open('ratings.csv') as f:\n",
    "    header = f.readline()\n",
    "    \n",
    "    for line in f:\n",
    "        userId, movieId, rating, timestamp = line.strip().split(',')\n",
    "        timestamp = int(timestamp)\n",
    "        \n",
    "        if previous_userId:\n",
    "            if userId == previous_userId:\n",
    "                rating_count += 1\n",
    "                user_data.append([userId, movieId, rating, timestamp])\n",
    "            elif rating_count >= 100:\n",
    "                lifetime_list.append(lifetime(user_data))                      \n",
    "                user_data = []\n",
    "                previous_userId = userId\n",
    "                rating_count = 1\n",
    "            else:\n",
    "                user_data = []\n",
    "                previous_userId = userId\n",
    "                rating_count = 1\n",
    "                \n",
    "        else:\n",
    "            previous_userId = userId\n",
    "            \n",
    "aver = sum(lifetime_list)/len(lifetime_list)            \n",
    "print(\"Cреднее время жизни: {} дней {} часов {} минут {} секунд\" .format(int(aver//(24*3600)), int(aver%(24*3600)//3600), int(aver%3600//60), int(aver%60)))"
   ]
  }
 ],
 "metadata": {
  "kernelspec": {
   "display_name": "Python 3",
   "language": "python",
   "name": "python3"
  },
  "language_info": {
   "codemirror_mode": {
    "name": "ipython",
    "version": 3
   },
   "file_extension": ".py",
   "mimetype": "text/x-python",
   "name": "python",
   "nbconvert_exporter": "python",
   "pygments_lexer": "ipython3",
   "version": "3.7.6"
  }
 },
 "nbformat": 4,
 "nbformat_minor": 4
}
