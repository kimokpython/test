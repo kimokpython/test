{
 "cells": [
  {
   "cell_type": "code",
   "execution_count": 29,
   "metadata": {},
   "outputs": [
    {
     "name": "stdout",
     "output_type": "stream",
     "text": [
      "Мат.ожидание = 0.80. Игра не выгодна игроку. В среднем он теряет 20.0 копеек за попытку.\n",
      "Теоритеческий выигрыш за 100000 попыток равен -20000. \n",
      " Фактический выигрыш равен -20411.\n"
     ]
    }
   ],
   "source": [
    "import numpy as np\n",
    "\n",
    "expected_value = (200 * 0.001 + # 777\n",
    "                 100 * 0.001 +  # 999\n",
    "                 50 * 0.001 +   # 555\n",
    "                 15 * 0.001 +   # 333\n",
    "                 10 * 0.001 +   # 111\n",
    "                 5 * 0.009 +    # *77\n",
    "                 3 * 0.09 +     # **7\n",
    "                 2 * 0.01 +     # *00\n",
    "                 1 * 0.09)      # **0\n",
    "if expected_value < 1:\n",
    "    print('Мат.ожидание = {:.2f}. Игра не выгодна игроку. В среднем он теряет {:.1f} копеек за попытку.'.format(expected_value, 100 * (1 - expected_value)))   \n",
    "else:\n",
    "    print('Мат.ожидание = {:.2f}. Игра выгодна игроку. В среднем он получает {:.1f} копеек за попытку.'.format(expected_value, 100 * (expected_value - 1)))             \n",
    "\n",
    "trials = 100000\n",
    "score = 0\n",
    "\n",
    "for i in range(trials):\n",
    "    score -= 1\n",
    "    random_number = np.random.randint(0,1000)\n",
    "    if random_number == 777:\n",
    "        score += 200\n",
    "    elif random_number == 999:\n",
    "        score += 100\n",
    "    elif random_number == 555:\n",
    "        score += 50\n",
    "    elif random_number == 333:\n",
    "        score += 15\n",
    "    elif random_number == 111:\n",
    "        score += 10\n",
    "    elif (random_number - 77) % 100 == 0:\n",
    "        score += 5\n",
    "    elif (random_number - 7) % 10 == 0:\n",
    "        score += 3\n",
    "    elif random_number % 100 == 0:\n",
    "        score += 2\n",
    "    elif random_number % 10 == 0:\n",
    "        score += 1          \n",
    "print('Теоритеческий выигрыш за {:.0f} попыток равен {:.0f}. \\n Фактический выигрыш равен {:.0f}.'.format(trials,-trials * (1 - expected_value), score))"
   ]
  }
 ],
 "metadata": {
  "kernelspec": {
   "display_name": "Python 3",
   "language": "python",
   "name": "python3"
  },
  "language_info": {
   "codemirror_mode": {
    "name": "ipython",
    "version": 3
   },
   "file_extension": ".py",
   "mimetype": "text/x-python",
   "name": "python",
   "nbconvert_exporter": "python",
   "pygments_lexer": "ipython3",
   "version": "3.7.6"
  }
 },
 "nbformat": 4,
 "nbformat_minor": 4
}
