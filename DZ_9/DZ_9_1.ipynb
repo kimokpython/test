{
 "cells": [
  {
   "cell_type": "code",
   "execution_count": 9,
   "metadata": {},
   "outputs": [
    {
     "name": "stdout",
     "output_type": "stream",
     "text": [
      "Номер а280ва валиден. Регион: 54\n",
      "Номер с287км валиден. Регион: 169\n"
     ]
    }
   ],
   "source": [
    "import re\n",
    "\n",
    "car_ids = ['а280ва54', 'с2807оо69', '280оо69', 'с331жо99', 'с287км169', 'с280у8н169','с280ВА69']\n",
    "\n",
    "for car_id in car_ids:\n",
    "    if re.fullmatch(r'[авекмнорстух]{1}\\d{3}[авекмнорстух]{2}\\d{2,3}', car_id):\n",
    "        print(\"Номер\", car_id[:6], \"валиден. Регион:\", car_id[6:])   \n",
    "     "
   ]
  }
 ],
 "metadata": {
  "kernelspec": {
   "display_name": "Python 3",
   "language": "python",
   "name": "python3"
  },
  "language_info": {
   "codemirror_mode": {
    "name": "ipython",
    "version": 3
   },
   "file_extension": ".py",
   "mimetype": "text/x-python",
   "name": "python",
   "nbconvert_exporter": "python",
   "pygments_lexer": "ipython3",
   "version": "3.7.6"
  }
 },
 "nbformat": 4,
 "nbformat_minor": 4
}
