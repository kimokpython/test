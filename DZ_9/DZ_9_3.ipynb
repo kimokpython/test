{
 "cells": [
  {
   "cell_type": "code",
   "execution_count": 8,
   "metadata": {},
   "outputs": [
    {
     "name": "stdout",
     "output_type": "stream",
     "text": [
      "ИТ\n",
      "NFC\n",
      "PYTHON\n",
      "FUN\n"
     ]
    }
   ],
   "source": [
    "import re\n",
    "\n",
    "some_string = 'Информационные технологии'\n",
    "some_other_string = 'Near Field Communication'\n",
    "one_more_string = 'Prior year temporary housing object number'\n",
    "last_string = 'Foxtrot uniform november'\n",
    "\n",
    "def acronym(string):\n",
    "    words = re.split(r'\\s', string)    \n",
    "    acr = \"\"\n",
    "    for word in words:    \n",
    "        acr += str.upper(word[0])\n",
    "    return acr\n",
    "\n",
    "print(acronym(some_string))\n",
    "print(acronym(some_other_string))\n",
    "print(acronym(one_more_string))\n",
    "print(acronym(last_string))"
   ]
  }
 ],
 "metadata": {
  "kernelspec": {
   "display_name": "Python 3",
   "language": "python",
   "name": "python3"
  },
  "language_info": {
   "codemirror_mode": {
    "name": "ipython",
    "version": 3
   },
   "file_extension": ".py",
   "mimetype": "text/x-python",
   "name": "python",
   "nbconvert_exporter": "python",
   "pygments_lexer": "ipython3",
   "version": "3.7.6"
  }
 },
 "nbformat": 4,
 "nbformat_minor": 4
}
