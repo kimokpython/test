{
 "cells": [
  {
   "cell_type": "code",
   "execution_count": 1,
   "metadata": {},
   "outputs": [
    {
     "data": {
      "text/plain": [
       "3"
      ]
     },
     "execution_count": 1,
     "metadata": {},
     "output_type": "execute_result"
    }
   ],
   "source": [
    "# сокращенная запись операций с присвоением\n",
    "x = 2\n",
    "x += 1\n",
    "x"
   ]
  },
  {
   "cell_type": "code",
   "execution_count": 2,
   "metadata": {},
   "outputs": [
    {
     "data": {
      "text/plain": [
       "-2"
      ]
     },
     "execution_count": 2,
     "metadata": {},
     "output_type": "execute_result"
    }
   ],
   "source": [
    "x -= 5\n",
    "x"
   ]
  },
  {
   "cell_type": "code",
   "execution_count": 3,
   "metadata": {},
   "outputs": [],
   "source": [
    "x *= 2"
   ]
  },
  {
   "cell_type": "code",
   "execution_count": 4,
   "metadata": {},
   "outputs": [
    {
     "data": {
      "text/plain": [
       "-4"
      ]
     },
     "execution_count": 4,
     "metadata": {},
     "output_type": "execute_result"
    }
   ],
   "source": [
    "x"
   ]
  },
  {
   "cell_type": "code",
   "execution_count": 6,
   "metadata": {},
   "outputs": [
    {
     "data": {
      "text/plain": [
       "-4.0"
      ]
     },
     "execution_count": 6,
     "metadata": {},
     "output_type": "execute_result"
    }
   ],
   "source": [
    "x /= -1\n",
    "x"
   ]
  },
  {
   "cell_type": "code",
   "execution_count": 8,
   "metadata": {},
   "outputs": [
    {
     "name": "stdout",
     "output_type": "stream",
     "text": [
      "even\n"
     ]
    }
   ],
   "source": [
    "# если у вас в блоке if и в блоке else есть только по одной операции, \n",
    "# то такое условие можно записать в одну строку\n",
    "\n",
    "num = 6\n",
    "\n",
    "if num % 2 == 0:\n",
    "    print('even')\n",
    "else:\n",
    "    print('odd')"
   ]
  },
  {
   "cell_type": "code",
   "execution_count": 10,
   "metadata": {},
   "outputs": [
    {
     "name": "stdout",
     "output_type": "stream",
     "text": [
      "odd\n"
     ]
    }
   ],
   "source": [
    "num = 5\n",
    "print('even') if num % 2 == 0 else print('odd') "
   ]
  },
  {
   "cell_type": "code",
   "execution_count": 11,
   "metadata": {},
   "outputs": [
    {
     "data": {
      "text/plain": [
       "-1"
      ]
     },
     "execution_count": 11,
     "metadata": {},
     "output_type": "execute_result"
    }
   ],
   "source": [
    "# взятие остатка от деления при отрицательных числах\n",
    "\n",
    "8 % -3 "
   ]
  },
  {
   "cell_type": "code",
   "execution_count": 12,
   "metadata": {},
   "outputs": [
    {
     "data": {
      "text/plain": [
       "3"
      ]
     },
     "execution_count": 12,
     "metadata": {},
     "output_type": "execute_result"
    }
   ],
   "source": [
    "-9 % 4"
   ]
  },
  {
   "cell_type": "code",
   "execution_count": null,
   "metadata": {},
   "outputs": [],
   "source": [
    "-12 % 5"
   ]
  },
  {
   "cell_type": "markdown",
   "metadata": {},
   "source": [
    "\n",
    "Дана переменная, в которой хранится шестизначное число (номер проездного билета). Напишите программу, которая будет определять, является ли данный билет \"счастливым\". Билет считается счастливым, если сумма первых трех цифр совпадает с суммой последних трех цифр номера.\n",
    "\n",
    "Примеры работы программы:\n",
    "\n",
    "number = 123456\n",
    "Результат:\n",
    "Несчастливый билет\n",
    "\n",
    "number = 123321\n",
    "Результат:\n",
    "Счастливый билет"
   ]
  },
  {
   "cell_type": "code",
   "execution_count": 29,
   "metadata": {},
   "outputs": [],
   "source": [
    "number = 247456"
   ]
  },
  {
   "cell_type": "code",
   "execution_count": 30,
   "metadata": {},
   "outputs": [],
   "source": [
    "num_1 = number // 100000"
   ]
  },
  {
   "cell_type": "code",
   "execution_count": 33,
   "metadata": {},
   "outputs": [
    {
     "data": {
      "text/plain": [
       "4"
      ]
     },
     "execution_count": 33,
     "metadata": {},
     "output_type": "execute_result"
    }
   ],
   "source": [
    "number % 100000 // 10000"
   ]
  },
  {
   "cell_type": "code",
   "execution_count": 16,
   "metadata": {},
   "outputs": [
    {
     "data": {
      "text/plain": [
       "12345.6"
      ]
     },
     "execution_count": 16,
     "metadata": {},
     "output_type": "execute_result"
    }
   ],
   "source": [
    "# Задача 1. Перевод байтов в мегабайты. Запрашиваем у пользователя, выводим на экран"
   ]
  },
  {
   "cell_type": "code",
   "execution_count": 36,
   "metadata": {},
   "outputs": [
    {
     "data": {
      "text/plain": [
       "0.00095367431640625"
      ]
     },
     "execution_count": 36,
     "metadata": {},
     "output_type": "execute_result"
    }
   ],
   "source": [
    "sum_ = 1000\n",
    "megabytyes = sum_ / 1048576\n",
    "megabytyes"
   ]
  },
  {
   "cell_type": "code",
   "execution_count": 38,
   "metadata": {},
   "outputs": [
    {
     "data": {
      "text/plain": [
       "0.9765625"
      ]
     },
     "execution_count": 38,
     "metadata": {},
     "output_type": "execute_result"
    }
   ],
   "source": [
    "number = 1000\n",
    "number / 1024"
   ]
  },
  {
   "cell_type": "code",
   "execution_count": 40,
   "metadata": {},
   "outputs": [
    {
     "name": "stdout",
     "output_type": "stream",
     "text": [
      "введите вес файла в байтах1000\n",
      "объём файла в мб 0.001\n"
     ]
    }
   ],
   "source": [
    "number = int(input('введите вес файла в байтах'))\n",
    "print('объём файла в мб', number * 0.000001)"
   ]
  },
  {
   "cell_type": "code",
   "execution_count": null,
   "metadata": {},
   "outputs": [],
   "source": [
    "bytes_ = int(input('введите кол-во байт'))\n",
    "megabytes = bytes_ / 1048576\n",
    "print(megabytes)"
   ]
  },
  {
   "cell_type": "code",
   "execution_count": 49,
   "metadata": {},
   "outputs": [],
   "source": [
    "# Задача 2. Найти максимальное число среди прежставленных\n",
    "number_1 = 10\n",
    "number_2 = 1\n",
    "number_3 = 2"
   ]
  },
  {
   "cell_type": "code",
   "execution_count": 50,
   "metadata": {},
   "outputs": [
    {
     "name": "stdout",
     "output_type": "stream",
     "text": [
      "number_1\n"
     ]
    }
   ],
   "source": [
    "if number_1 > number_2 and number_1 > number_3:\n",
    "    print('number_1')\n",
    "elif number_2 > number_1 and number_2 > number_3:\n",
    "    print('number_2')\n",
    "else:\n",
    "    print('number_3')"
   ]
  },
  {
   "cell_type": "code",
   "execution_count": 55,
   "metadata": {},
   "outputs": [
    {
     "name": "stdout",
     "output_type": "stream",
     "text": [
      "-6\n",
      "08\n",
      "2\n"
     ]
    }
   ],
   "source": [
    "x = int(input())\n",
    "y = int(input())\n",
    "if x > 0 and y > 0:\n",
    "    print('1')\n",
    "elif x < 0 and y > 0:\n",
    "    print('2')\n",
    "elif x > 0 and y < 0:\n",
    "    print('4')\n",
    "else:\n",
    "    print('3')"
   ]
  },
  {
   "cell_type": "code",
   "execution_count": null,
   "metadata": {},
   "outputs": [],
   "source": [
    "x = int(input())\n",
    "y = int(input())\n",
    "if x > 0:\n",
    "    if y > 0: \n",
    "        print('I')\n",
    "    else:\n",
    "        print('IV')\n",
    "elif x < 0:\n",
    "    if y > 0: \n",
    "        print('II')\n",
    "    else:\n",
    "        print('III')"
   ]
  },
  {
   "cell_type": "code",
   "execution_count": null,
   "metadata": {},
   "outputs": [],
   "source": [
    "# Задача 3. Пишем игру \"Камень, ножницы, бумага\"\n",
    "\n",
    "user_1 = input('игрок 1')\n",
    "user_2 = input('игрок 2')\n",
    "\n",
    "# rock - sis\n",
    "if user_1 == user_2:\n",
    "    print('Ничья')\n",
    "elif user_1 == 'r' and user_2 == 's':\n",
    "    print('user_1 win')\n",
    "elif user_1 == 's' and user_2 == 'r':\n",
    "    print('user_2 win')\n",
    "#  paper - rock\n",
    "elif user_1 == 'p' and user_2 == 'r':\n",
    "    print('user_1 win')\n",
    "elif user_1 == 'r' and user_2 == 'p':\n",
    "    print('user_2 win')\n",
    "# sis - paper\n",
    "elif user_1 == 's' and user_2 == 'p':\n",
    "    print('user_1 win')\n",
    "elif user_1 == 'p' and user_2 == 's':\n",
    "    print('user_2 win')"
   ]
  },
  {
   "cell_type": "code",
   "execution_count": 62,
   "metadata": {},
   "outputs": [
    {
     "ename": "SyntaxError",
     "evalue": "EOL while scanning string literal (<ipython-input-62-23a98b59df23>, line 7)",
     "output_type": "error",
     "traceback": [
      "\u001b[1;36m  File \u001b[1;32m\"<ipython-input-62-23a98b59df23>\"\u001b[1;36m, line \u001b[1;32m7\u001b[0m\n\u001b[1;33m    print('Игрок 2 победил! Бумага закрывает камень!)\u001b[0m\n\u001b[1;37m                                                     ^\u001b[0m\n\u001b[1;31mSyntaxError\u001b[0m\u001b[1;31m:\u001b[0m EOL while scanning string literal\n"
     ]
    }
   ],
   "source": [
    "if user_1 == user_2:\n",
    "    print('Ничья')\n",
    "elif user_1 == 'r':\n",
    "    if user_2 == 's':\n",
    "        print('Игрок 1 победил! Камень ломает ножницы!')\n",
    "    else:\n",
    "        print('Игрок 2 победил! Бумага закрывает камень!)\n",
    "elif user_1 == 'p':\n",
    "    if user_2 == 'r':\n",
    "        print('Игрок 2 победил! Бумага закрывает камень!')\n",
    "    else:\n",
    "        print('Игрок 1 победил! Ножницы режут бумагу!')\n",
    "elif user_1 == 's':\n",
    "    if user_2 == 'p':\n",
    "        print('Игрок 1 победил! Ножницы режут бумагу!')\n",
    "    else:\n",
    "        print('Игрок 2 победил! Камень ломает ножницы!')"
   ]
  },
  {
   "cell_type": "code",
   "execution_count": 61,
   "metadata": {},
   "outputs": [
    {
     "name": "stdout",
     "output_type": "stream",
     "text": [
      "Введите что-то1\n"
     ]
    }
   ],
   "source": [
    "user_input = input('Введите что-то')"
   ]
  },
  {
   "cell_type": "code",
   "execution_count": null,
   "metadata": {},
   "outputs": [],
   "source": []
  }
 ],
 "metadata": {
  "kernelspec": {
   "display_name": "Python 3.7.6 64-bit ('base': conda)",
   "language": "python",
   "name": "python37664bitbaseconda98ee28fd21e54513b617f25a4bc88d8a"
  },
  "language_info": {
   "codemirror_mode": {
    "name": "ipython",
    "version": 3
   },
   "file_extension": ".py",
   "mimetype": "text/x-python",
   "name": "python",
   "nbconvert_exporter": "python",
   "pygments_lexer": "ipython3",
   "version": "3.7.6"
  }
 },
 "nbformat": 4,
 "nbformat_minor": 4
}
